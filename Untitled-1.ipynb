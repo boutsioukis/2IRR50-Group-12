from sympy import *
import math
import numpy as np


def argmin_x1(x):
      
    equation = Eq(math.exp(x[0]-3*x[1]+3) - math.exp(2*x[2]-x[0]+2), 0)
    solutions = solve(equation, x)
    print(solutions)
    return x[1]


def argmin_x2(x):
    -3*math.exp(x[0]-3*x[1]+3) +3*math.exp(3*x[1]-2*x[2]-2)

    return (x[0] + 2 * x[2] + 5) / 6

def argmin_x3(x):
    -2* math.exp(3*x[1] -2x[2] -2) +2* math.exp(2*x[2] -x[0] +2)
    
    return (x[0] + 3 * x[1] - 4) / 4

def f(x):
    x1, x2, x3 = x
    return math.exp(x1 - 3*x2 +3) + math.exp(3*x2 - 2*x3 -1) + math.exp(2*x3 - x1 +2)

def coordinate_descent(f, argmin, x0, max_iter=100, verbose=False):
    
    x = np.asarry(x0, dtype=float)
    history = [x.copy()]
    
    for i in range(max_iter):
        x[0] = argmin[0] * x
        x[1] = argmin[1] * x
        x[2] = argmin[2] * x

        if verbose:
            print(f"Iter {i+1}: x = {x}, f(x) = {f(x)}")
        pass
    return x, history

x0 = [4, 3, 2]
print(coordinate_descent)
argmin_funcs = [argmin_x1, argmin_x2, argmin_x3]
solution, trajectory = coordinate_descent(f, argmin_funcs, x0, max_iter=10, verbose=True)

argmin_x1(x0)